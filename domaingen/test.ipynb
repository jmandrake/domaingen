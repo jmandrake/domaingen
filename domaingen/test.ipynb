{
 "cells": [
  {
   "cell_type": "code",
   "execution_count": 9,
   "metadata": {},
   "outputs": [
    {
     "name": "stdout",
     "output_type": "stream",
     "text": [
      "['formula']\n",
      "['cookery', 'preparation']\n",
      "['dinner party']\n"
     ]
    }
   ],
   "source": [
    "import zipfile\n",
    "import json\n",
    "\n",
    "with zipfile.ZipFile('eng_synonyms.json.zip') as myzip:\n",
    "    jc = myzip.open('eng_synonyms.json')\n",
    "    jdict = json.load(jc)\n",
    "    \n",
    "kws = ['recipe','cooking','dinner']\n",
    "for k in kws:\n",
    "    print(jdict[k])"
   ]
  }
 ],
 "metadata": {
  "kernelspec": {
   "display_name": "Python 3.10.6 64-bit",
   "language": "python",
   "name": "python3"
  },
  "language_info": {
   "codemirror_mode": {
    "name": "ipython",
    "version": 3
   },
   "file_extension": ".py",
   "mimetype": "text/x-python",
   "name": "python",
   "nbconvert_exporter": "python",
   "pygments_lexer": "ipython3",
   "version": "3.10.6"
  },
  "orig_nbformat": 4,
  "vscode": {
   "interpreter": {
    "hash": "3bd13bc16400e16874b7ce28af58a129343287e94248a182c1f06fbb6b76ef8e"
   }
  }
 },
 "nbformat": 4,
 "nbformat_minor": 2
}
