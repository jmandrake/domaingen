{
 "cells": [
  {
   "cell_type": "code",
   "execution_count": 9,
   "metadata": {},
   "outputs": [
    {
     "name": "stdout",
     "output_type": "stream",
     "text": [
      "['formula']\n",
      "['cookery', 'preparation']\n",
      "['dinner party']\n"
     ]
    }
   ],
   "source": [
    "import zipfile\n",
    "import json\n",
    "\n",
    "with zipfile.ZipFile('eng_synonyms.json.zip') as myzip:\n",
    "    jc = myzip.open('eng_synonyms.json')\n",
    "    jdict = json.load(jc)\n",
    "    \n",
    "kws = ['recipe','cooking','dinner']\n",
    "for k in kws:\n",
    "    print(jdict[k])"
   ]
  },
  {
   "cell_type": "code",
   "execution_count": null,
   "metadata": {},
   "outputs": [],
   "source": [
    "# C:\\projects\\pypi_packages\\domaingen\\domaingen\\eng_synonyms.json.zip\n",
    "# eng_synonyms.json.zip"
   ]
  },
  {
   "cell_type": "code",
   "execution_count": 11,
   "metadata": {},
   "outputs": [
    {
     "name": "stdout",
     "output_type": "stream",
     "text": [
      "0.19827580003766343\n",
      "Else OK\n",
      "{\n",
      "  \"domain_name\": [\n",
      "    \"COX.NET\",\n",
      "    \"cox.net\"\n",
      "  ],\n",
      "  \"registrar\": \"CSC CORPORATE DOMAINS, INC.\",\n",
      "  \"whois_server\": \"whois.corporatedomains.com\",\n",
      "  \"referral_url\": null,\n",
      "  \"updated_date\": [\n",
      "    \"2022-05-11 14:43:26\",\n",
      "    \"2022-05-10 00:17:04\"\n",
      "  ],\n",
      "  \"creation_date\": [\n",
      "    \"1995-03-14 05:00:00\",\n",
      "    \"1995-03-14 00:00:00\"\n",
      "  ],\n",
      "  \"expiration_date\": \"2024-03-15 04:00:00\",\n",
      "  \"name_servers\": [\n",
      "    \"NS.COX.NET\",\n",
      "    \"NS.EAST.COX.NET\",\n",
      "    \"NS.WEST.COX.NET\",\n",
      "    \"ns.cox.net\",\n",
      "    \"ns.west.cox.net\",\n",
      "    \"ns.east.cox.net\"\n",
      "  ],\n",
      "  \"status\": [\n",
      "    \"clientTransferProhibited https://icann.org/epp#clientTransferProhibited\",\n",
      "    \"serverDeleteProhibited https://icann.org/epp#serverDeleteProhibited\",\n",
      "    \"serverTransferProhibited https://icann.org/epp#serverTransferProhibited\",\n",
      "    \"serverUpdateProhibited https://icann.org/epp#serverUpdateProhibited\",\n",
      "    \"clientTransferProhibited http://www.icann.org/epp#clientTransferProhibited\"\n",
      "  ],\n",
      "  \"emails\": [\n",
      "    \"domainabuse@cscglobal.com\",\n",
      "    \"InetDomainAdmin@cox.com\"\n",
      "  ],\n",
      "  \"dnssec\": \"unsigned\",\n",
      "  \"name\": \"Inet Domain Admin\",\n",
      "  \"org\": \"Cox Communications, Inc\",\n",
      "  \"address\": \"6305 Peachtree Dunwoody Rd\",\n",
      "  \"city\": \"Atlanta\",\n",
      "  \"state\": \"GA\",\n",
      "  \"registrant_postal_code\": \"30328\",\n",
      "  \"country\": \"US\"\n",
      "}\n"
     ]
    }
   ],
   "source": [
    "import whois\n",
    "from timeit import default_timer as timer\n",
    "\n",
    "try:\n",
    "    start = timer()\n",
    "    w = whois.whois('cox.net')\n",
    "    stop = timer()\n",
    "    print(stop-start)\n",
    "except whois.RuntimeError as e:\n",
    "    print(\"Runtime Error.\")\n",
    "except NameError as e:\n",
    "    print(\"NameError: unregistered domain.\")\n",
    "except Exception:\n",
    "    print(\"Error: general error.\")\n",
    "else:\n",
    "    print(\"Else OK\")\n",
    "    print(w)\n"
   ]
  }
 ],
 "metadata": {
  "kernelspec": {
   "display_name": "Python 3.10.6 64-bit",
   "language": "python",
   "name": "python3"
  },
  "language_info": {
   "codemirror_mode": {
    "name": "ipython",
    "version": 3
   },
   "file_extension": ".py",
   "mimetype": "text/x-python",
   "name": "python",
   "nbconvert_exporter": "python",
   "pygments_lexer": "ipython3",
   "version": "3.10.6"
  },
  "orig_nbformat": 4,
  "vscode": {
   "interpreter": {
    "hash": "3bd13bc16400e16874b7ce28af58a129343287e94248a182c1f06fbb6b76ef8e"
   }
  }
 },
 "nbformat": 4,
 "nbformat_minor": 2
}
